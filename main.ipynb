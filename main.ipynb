{
 "cells": [
  {
   "cell_type": "code",
   "execution_count": 1,
   "id": "edb4d5b5",
   "metadata": {},
   "outputs": [],
   "source": [
    "# Main libraries required\n",
    "import qiskit as qk\n",
    "import numpy as np\n",
    "from scipy.optimize import minimize\n",
    "from itertools import product, combinations, permutations\n",
    "\n",
    "# Plotting libraries\n",
    "import matplotlib.pyplot as plt\n",
    "plt.rcParams.update({'font.size': 22})\n",
    "import seaborn as sns\n",
    "\n",
    "# QAOA implementation using conventional problem encoding\n",
    "from tsp_qaoa_orig import TSP_QAOA_Orig"
   ]
  },
  {
   "cell_type": "code",
   "execution_count": 2,
   "id": "b7d86fef",
   "metadata": {},
   "outputs": [],
   "source": [
    "# Held-Karp\n",
    "# Keys in table: Use the nodes in the set to reach the point in the second tuple element. \n",
    "# Values in table: Order of the optimum tour and the total distance\n",
    "def tsp_dynamic(adj_matrix, first_node=0, last_node=0):\n",
    "    n = adj_matrix.shape[0]\n",
    "    init_minimum = np.sum(adj_matrix)\n",
    "    table = {}\n",
    "    for i in range(n):\n",
    "        table[(frozenset((i,)),i)] = ((i,), adj_matrix[first_node, i])\n",
    "    nodes = frozenset(range(n)).difference((first_node, last_node))\n",
    "    for s in range(2, len(nodes)+1):\n",
    "        for S in combinations(nodes, s):\n",
    "            set_S = frozenset(S)\n",
    "            for k in S:\n",
    "                minimum_distance = init_minimum\n",
    "                minimum_path = None\n",
    "                set_Smk = set_S.difference((k,))\n",
    "                for m in set_Smk:\n",
    "                    table_entry = table[(set_Smk, m)]\n",
    "                    distance = table_entry[1] + adj_matrix[m,k]\n",
    "                    if distance < minimum_distance:\n",
    "                        minimum_distance = distance\n",
    "                        minimum_path = table_entry[0]\n",
    "                table[(set_S, k)] = (minimum_path + (k,), minimum_distance)\n",
    "    \n",
    "    minimum_distance = init_minimum\n",
    "    minimum_path = None\n",
    "    # Find Minimum\n",
    "    for i in nodes:\n",
    "        table_entry = table[(nodes, i)]\n",
    "        distance = table_entry[1] + adj_matrix[i,last_node]\n",
    "        if distance < minimum_distance:\n",
    "            minimum_distance = distance\n",
    "            minimum_path = table_entry[0] + (last_node,)\n",
    "    return (minimum_path, minimum_distance)"
   ]
  },
  {
   "cell_type": "code",
   "execution_count": 3,
   "id": "a606454e",
   "metadata": {},
   "outputs": [],
   "source": [
    "def compute_path_length(path, adj_matrix):\n",
    "    length = 0\n",
    "    for i,j in zip(path[:-1], path[1:]):\n",
    "        length += adj_matrix[i,j]\n",
    "    return length\n",
    "\n",
    "def path_from_string(string):\n",
    "    n = int(0.5*(3 + (4*len(string) + 1)**0.5))\n",
    "    edge_in = set(range(1, n))\n",
    "    edges = set()\n",
    "    rev_string = string[::-1]\n",
    "    value = None\n",
    "    for bit, edge in enumerate(permutations(range(1, n), 2)):\n",
    "        value = rev_string[bit]\n",
    "        if value == \"1\":\n",
    "            edges.add(edge)\n",
    "            edge_in.remove(edge[1])\n",
    "    path = [0, edge_in.pop()]\n",
    "    while edges:\n",
    "        for edge in edges:\n",
    "            if edge[0] == path[-1]:\n",
    "                path.append(edge[1])\n",
    "                edges.remove(edge)\n",
    "                break\n",
    "    return path + [0]"
   ]
  },
  {
   "cell_type": "code",
   "execution_count": 4,
   "id": "89d3fad1",
   "metadata": {},
   "outputs": [],
   "source": [
    "class TSP_QAOA:\n",
    "    def __init__(self, n, p):\n",
    "        assert (n > 2) and (n < 5)\n",
    "        \n",
    "        self.qubits = None\n",
    "        self.cbits = None\n",
    "        self.circuit = None\n",
    "        self.matrix_bound = None\n",
    "        self.params_bound = None\n",
    "        self.beta = None\n",
    "        self.gamma = None\n",
    "        self.matrix = None\n",
    "        self.p = p\n",
    "        self.n = n\n",
    "        self.adj_matrix = None\n",
    "        self.opt_iterations = 0\n",
    "\n",
    "    def build_state_preparation(self):\n",
    "        # TODO: Abstract to an arbitrary number of cities\n",
    "        # TODO: This should work recursively (somehow)\n",
    "        if self.n == 3:\n",
    "            self.circuit.h(0)\n",
    "            self.circuit.cx(0, 1)\n",
    "            self.circuit.x(0)\n",
    "        elif self.n == 4:\n",
    "            self.circuit.ry(np.arccos(-1/3), 0)\n",
    "            self.circuit.ch(0, 1)\n",
    "            self.circuit.ch(1, 2)\n",
    "            self.circuit.cx(2, 3)\n",
    "            self.circuit.cx(1, 2)\n",
    "            self.circuit.cx(0, 1)\n",
    "            self.circuit.x(0)\n",
    "            self.circuit.ch(1, 2)\n",
    "            self.circuit.cx(2, 5)\n",
    "            self.circuit.cx(1, 2)\n",
    "            self.circuit.ch(0, 3)\n",
    "            self.circuit.cx(3, 4)\n",
    "            self.circuit.cx(0, 3)\n",
    "        else:\n",
    "            pass\n",
    "\n",
    "    def reverse_state_preparation(self):\n",
    "        # TODO: Abstract to an arbitrary number of cities\n",
    "        if self.n == 3:\n",
    "            self.circuit.x(0)\n",
    "            self.circuit.cx(0, 1)\n",
    "            self.circuit.h(0)\n",
    "        elif self.n == 4:\n",
    "            self.circuit.cx(0, 3)\n",
    "            self.circuit.cx(3, 4)\n",
    "            self.circuit.ch(0, 3)\n",
    "            self.circuit.cx(1, 2)\n",
    "            self.circuit.cx(2, 5)\n",
    "            self.circuit.ch(1, 2)\n",
    "            self.circuit.x(0)\n",
    "            self.circuit.cx(0, 1)\n",
    "            self.circuit.cx(1, 2)\n",
    "            self.circuit.cx(2, 3)\n",
    "            self.circuit.ch(1, 2)\n",
    "            self.circuit.ch(0, 1)\n",
    "            self.circuit.ry(-np.arccos(-1/3), 0)\n",
    "        else:\n",
    "            pass\n",
    "\n",
    "    def build_phase_separator(self, parameter):\n",
    "        \"\"\"\n",
    "        Phase separator for a single iteration, hence only a single parameter is used\n",
    "        \"\"\"\n",
    "        for qubit, edge in enumerate(permutations(range(1, self.n), 2)):\n",
    "            self.circuit.p(2 * parameter * (self.matrix[edge[0]][edge[1]] - (self.n-3)*(self.matrix[edge[0]][0]/(self.n-2)) - (self.n-3)*(self.matrix[0][edge[1]]/(self.n-2))), qubit)\n",
    "            self.circuit.x(qubit)\n",
    "            self.circuit.p(2 * parameter * (self.matrix[edge[0]][0]/(self.n-2) + self.matrix[0][edge[1]]/(self.n-2)), qubit)\n",
    "            self.circuit.x(qubit)\n",
    "\n",
    "    def build_mixer(self, parameter):\n",
    "        \"\"\"\n",
    "        Mixer for a single iteration, hence only a single parameter is used\n",
    "        \"\"\"\n",
    "        self.reverse_state_preparation()\n",
    "\n",
    "        self.circuit.x(self.qubits)\n",
    "\n",
    "        cp_gate = qk.circuit.library.standard_gates.PhaseGate(parameter).control(len(self.qubits) - 1)\n",
    "        self.circuit.append(cp_gate, self.qubits)\n",
    "\n",
    "        self.circuit.x(self.qubits)\n",
    "\n",
    "        self.build_state_preparation()\n",
    "\n",
    "    def bind_matrix(self, adj_matrix):\n",
    "        adj_matrix_norm = adj_matrix/(np.max(adj_matrix)*self.n)\n",
    "        params_matrix = {self.matrix[i][j]: adj_matrix_norm[i,j] for i, j in product(range(self.n), range(self.n)) if i != j}\n",
    "        self.matrix_bound = self.circuit.assign_parameters(params_matrix)\n",
    "        self.adj_matrix = adj_matrix\n",
    "\n",
    "    def bind_parameters(self, parameters):\n",
    "        assert (self.matrix_bound is not None), \"Matrix parameters need to be bound\"\n",
    "        betas = parameters[:self.p]\n",
    "        gammas = parameters[self.p:]\n",
    "        \n",
    "        params_beta = {qcbeta: pbeta for qcbeta, pbeta in zip(self.beta, betas)}\n",
    "        params_gamma = {qcgamma: pgamma for qcgamma, pgamma in zip(self.gamma, gammas)}\n",
    "        \n",
    "        self.params_bound = self.matrix_bound.assign_parameters({**params_beta, **params_gamma})\n",
    "\n",
    "    def compute_path_length(self, measurement):\n",
    "        rev_string = measurement[::-1]\n",
    "        value = 0\n",
    "        for bit, edge in enumerate(permutations(range(1, self.n), 2)):\n",
    "            bit_value = rev_string[bit]\n",
    "            if bit_value == \"0\":\n",
    "                value += self.adj_matrix[edge[0]][0]/(self.n-2)\n",
    "                value += self.adj_matrix[0][edge[1]]/(self.n-2)\n",
    "            else:\n",
    "                value -= (self.n-3)*(self.adj_matrix[edge[0]][0]/(self.n-2))\n",
    "                value -= (self.n-3)*(self.adj_matrix[0][edge[1]]/(self.n-2))\n",
    "                value += self.adj_matrix[edge[0]][edge[1]]\n",
    "        return value\n",
    "\n",
    "    def compute_expectation(self, counts, shots):\n",
    "        sum_count = 0\n",
    "        for string, count in counts.items():\n",
    "            sum_count += self.compute_path_length(string)*count\n",
    "\n",
    "        return sum_count/shots \n",
    "        \n",
    "    def build_circuit(self, backend):\n",
    "        self.beta = [qk.circuit.Parameter(\"beta{}\".format(i)) for i in range(self.p)]\n",
    "        self.gamma = [qk.circuit.Parameter(\"gamma{}\".format(i)) for i in range(self.p)]\n",
    "        self.matrix = [[qk.circuit.Parameter(\"matrix{0}{1}\".format(i,j)) for j in range(self.n)] for i in range(self.n)]\n",
    "\n",
    "        self.qubits = qk.QuantumRegister((self.n-1)*(self.n-2))\n",
    "        self.cbits = qk.ClassicalRegister((self.n-1)*(self.n-2))\n",
    "        \n",
    "        self.circuit = qk.QuantumCircuit(self.qubits, self.cbits)\n",
    "\n",
    "        self.build_state_preparation()\n",
    "        \n",
    "        for i in range(self.p):\n",
    "            self.build_phase_separator(self.gamma[i])\n",
    "            self.build_mixer(self.beta[i])\n",
    "\n",
    "        self.circuit.measure(self.qubits, self.cbits)\n",
    "        self.circuit = qk.transpile(self.circuit, optimization_level=3, backend=backend)\n",
    "\n",
    "    def run_circuit(self, parameters, backend, shots):\n",
    "        self.bind_parameters(parameters)\n",
    "        counts = backend.run(self.params_bound, seed_simulator=42, shots=shots).result().get_counts()\n",
    "        return counts\n",
    "\n",
    "    def solve(self, adj_matrix, shots=1000, backend=None):\n",
    "        assert (self.n == len(adj_matrix)), \"Adjacency matrix does not fit with given number of qubits\"\n",
    "        \n",
    "        if backend is None:\n",
    "            backend = qk.Aer.get_backend('qasm_simulator')\n",
    "\n",
    "        if self.circuit is None:\n",
    "            self.build_circuit(backend)\n",
    "\n",
    "        self.bind_matrix(adj_matrix)\n",
    "\n",
    "        def get_circuit_expectation(parameters):\n",
    "            counts = self.run_circuit(parameters, backend, shots)\n",
    "            expectation = self.compute_expectation(counts, shots)\n",
    "            self.opt_iterations += 1\n",
    "            return expectation\n",
    "        \n",
    "        self.opt_iterations = 0\n",
    "        res = minimize(get_circuit_expectation, [0.5]*(self.p*2), method='COBYLA')\n",
    "        optim = res.x\n",
    "\n",
    "        counts = self.run_circuit(optim, backend, shots)\n",
    "        best_path = max(counts, key=counts.get)\n",
    "        # expectations = {path: self.compute_path_length(path) for path, _ in counts.items()}\n",
    "        path_length = self.compute_path_length(best_path)\n",
    "        best_path = path_from_string(best_path)\n",
    "        \n",
    "        return tuple(best_path[1:]), path_length"
   ]
  },
  {
   "cell_type": "code",
   "execution_count": 5,
   "id": "32d918cb",
   "metadata": {},
   "outputs": [],
   "source": [
    "tsp_size = 4\n",
    "p = 1\n",
    "shots = 1000\n",
    "backend = qk.Aer.get_backend('qasm_simulator')"
   ]
  },
  {
   "cell_type": "code",
   "execution_count": 6,
   "id": "92983a48",
   "metadata": {},
   "outputs": [],
   "source": [
    "# We create a new QAOA solver object for our desired circuit size\n",
    "tsp_qaoa_solver = TSP_QAOA(tsp_size, p)\n",
    "# Build the circuit with respect to the given backend\n",
    "# This only needs to be done once - this circuit is parametrized and\n",
    "# can be used for any TSP instance of the previously defined size\n",
    "tsp_qaoa_solver.build_circuit(backend)"
   ]
  },
  {
   "cell_type": "code",
   "execution_count": 7,
   "id": "f9ab5d32",
   "metadata": {},
   "outputs": [],
   "source": [
    "tsp_qaoa_solver_orig = TSP_QAOA_Orig(tsp_size, p)\n",
    "tsp_qaoa_solver_orig.build_circuit(backend)"
   ]
  },
  {
   "cell_type": "code",
   "execution_count": 8,
   "id": "9dc5ae26",
   "metadata": {},
   "outputs": [
    {
     "data": {
      "text/plain": [
       "array([[ 0, 18,  4,  8],\n",
       "       [ 5,  0,  5,  7],\n",
       "       [13, 11,  0, 10],\n",
       "       [17,  7,  3,  0]])"
      ]
     },
     "execution_count": 8,
     "metadata": {},
     "output_type": "execute_result"
    }
   ],
   "source": [
    "# Generate a random TSP instance\n",
    "random_tsp = np.random.randint(low=1, high=20, size=(tsp_size, tsp_size))\n",
    "random_tsp[np.diag_indices(tsp_size)] = 0\n",
    "random_tsp"
   ]
  },
  {
   "cell_type": "code",
   "execution_count": 9,
   "id": "b55c39c3",
   "metadata": {},
   "outputs": [
    {
     "data": {
      "text/plain": [
       "((2, 3, 1, 0), 26.0)"
      ]
     },
     "execution_count": 9,
     "metadata": {},
     "output_type": "execute_result"
    }
   ],
   "source": [
    "# This will return 2 values: The computed path and the length of it\n",
    "# The first (and last) node are assumed to be 0 (without loss of generality)\n",
    "tsp_qaoa_solver.solve(random_tsp)"
   ]
  },
  {
   "cell_type": "code",
   "execution_count": 10,
   "id": "03dcb611",
   "metadata": {},
   "outputs": [
    {
     "data": {
      "text/plain": [
       "((2, 3, 1, 0), 26)"
      ]
     },
     "execution_count": 10,
     "metadata": {},
     "output_type": "execute_result"
    }
   ],
   "source": [
    "tsp_qaoa_solver_orig.solve(random_tsp)"
   ]
  },
  {
   "cell_type": "code",
   "execution_count": 11,
   "id": "8f013743",
   "metadata": {},
   "outputs": [
    {
     "data": {
      "text/plain": [
       "((2, 3, 1, 0), 26)"
      ]
     },
     "execution_count": 11,
     "metadata": {},
     "output_type": "execute_result"
    }
   ],
   "source": [
    "# Optimal solution - same output format as for the QAOA solution\n",
    "tsp_dynamic(random_tsp)"
   ]
  },
  {
   "cell_type": "code",
   "execution_count": 12,
   "id": "3d3d415c",
   "metadata": {},
   "outputs": [
    {
     "name": "stdout",
     "output_type": "stream",
     "text": [
      "Progress: 100.00%\r"
     ]
    }
   ],
   "source": [
    "number_of_samples = 1000\n",
    "tour_lengthts_reference = []\n",
    "tour_lengthts_approxiamtion = []\n",
    "opt_iterations_new = []\n",
    "\n",
    "for i in range(number_of_samples):\n",
    "    # Generate random TSP of the same size as above\n",
    "    random_tsp = np.random.randint(low=1, high=20, size=(tsp_size, tsp_size))\n",
    "    random_tsp[np.diag_indices(tsp_size)] = 0\n",
    "\n",
    "    # Compute optimum solution\n",
    "    solution = tsp_dynamic(random_tsp)\n",
    "    # Compute QAOA approximation\n",
    "    approximation = tsp_qaoa_solver.solve(random_tsp)\n",
    "\n",
    "    # For this comparison we are only interested in the returned tour lengths\n",
    "    tour_lengthts_reference.append(solution[1])\n",
    "    tour_lengthts_approxiamtion.append(approximation[1])\n",
    "    opt_iterations_new.append(tsp_qaoa_solver.opt_iterations)\n",
    "\n",
    "    print(\"Progress: {:.2f}%\".format(((i+1)/number_of_samples)*100), end=\"\\r\")\n",
    "\n",
    "tour_lengthts_reference = np.array(tour_lengthts_reference)\n",
    "tour_lengthts_approxiamtion = np.array(tour_lengthts_approxiamtion)"
   ]
  },
  {
   "cell_type": "code",
   "execution_count": 13,
   "id": "2f2fe1c0",
   "metadata": {},
   "outputs": [
    {
     "data": {
      "text/plain": [
       "[]"
      ]
     },
     "execution_count": 13,
     "metadata": {},
     "output_type": "execute_result"
    },
    {
     "data": {
      "image/png": "[encoded data removed]",
      "text/plain": [
       "<Figure size 1512x648 with 1 Axes>"
      ]
     },
     "metadata": {
      "needs_background": "light"
     },
     "output_type": "display_data"
    }
   ],
   "source": [
    "relative_errors = np.abs(tour_lengthts_reference - tour_lengthts_approxiamtion)/tour_lengthts_reference\n",
    "weights = np.ones_like(relative_errors)/len(relative_errors)\n",
    "\n",
    "plt.figure(figsize=(21,9))\n",
    "plt.hist(relative_errors, bins=np.arange(0,1,0.02), weights=weights, edgecolor='black', color='skyblue')\n",
    "plt.ylim((0, 1))\n",
    "plt.title(\"Error distribution of test samples\")\n",
    "plt.xlabel(\"Relative error\")\n",
    "plt.ylabel(\"Relative frequency\")\n",
    "plt.plot()"
   ]
  },
  {
   "cell_type": "code",
   "execution_count": 14,
   "id": "136074f8",
   "metadata": {},
   "outputs": [
    {
     "data": {
      "text/plain": [
       "0.03"
      ]
     },
     "execution_count": 14,
     "metadata": {},
     "output_type": "execute_result"
    }
   ],
   "source": [
    "# Fraction of non-optimal QAOA solutions\n",
    "len(relative_errors[relative_errors>0])/number_of_samples"
   ]
  },
  {
   "cell_type": "code",
   "execution_count": 15,
   "id": "2fd73b87",
   "metadata": {},
   "outputs": [
    {
     "data": {
      "text/plain": [
       "0.05151151273840233"
      ]
     },
     "execution_count": 15,
     "metadata": {},
     "output_type": "execute_result"
    }
   ],
   "source": [
    "# Average relative error of all non-optimal QAOA solutions\n",
    "np.mean(relative_errors[relative_errors>0])"
   ]
  },
  {
   "cell_type": "code",
   "execution_count": 16,
   "id": "aff9bf42",
   "metadata": {},
   "outputs": [
    {
     "name": "stdout",
     "output_type": "stream",
     "text": [
      "Progress: 100.00%\r"
     ]
    }
   ],
   "source": [
    "tour_lengthts_reference = []\n",
    "tour_lengthts_approxiamtion = []\n",
    "opt_iterations_orig = []\n",
    "\n",
    "for i in range(number_of_samples):\n",
    "    # Generate random TSP of the same size as above\n",
    "    random_tsp = np.random.randint(low=1, high=20, size=(tsp_size, tsp_size))\n",
    "    random_tsp[np.diag_indices(tsp_size)] = 0\n",
    "\n",
    "    # Compute optimum solution\n",
    "    solution = tsp_dynamic(random_tsp)\n",
    "    # Compute QAOA approximation\n",
    "    approximation = tsp_qaoa_solver_orig.solve(random_tsp)\n",
    "\n",
    "    # For this comparison we are only interested in the returned tour lengths\n",
    "    tour_lengthts_reference.append(solution[1])\n",
    "    tour_lengthts_approxiamtion.append(approximation[1])\n",
    "    opt_iterations_orig.append(tsp_qaoa_solver_orig.opt_iterations)\n",
    "\n",
    "    print(\"Progress: {:.2f}%\".format(((i+1)/number_of_samples)*100), end=\"\\r\")\n",
    "\n",
    "tour_lengthts_reference = np.array(tour_lengthts_reference)\n",
    "tour_lengthts_approxiamtion = np.array(tour_lengthts_approxiamtion)"
   ]
  },
  {
   "cell_type": "code",
   "execution_count": 17,
   "id": "b67b5621",
   "metadata": {},
   "outputs": [],
   "source": [
    "tour_lengthts_reference = np.array(tour_lengthts_reference)\n",
    "tour_lengthts_approxiamtion = np.array(tour_lengthts_approxiamtion)"
   ]
  },
  {
   "cell_type": "code",
   "execution_count": 18,
   "id": "628610fd",
   "metadata": {},
   "outputs": [
    {
     "data": {
      "text/plain": [
       "[]"
      ]
     },
     "execution_count": 18,
     "metadata": {},
     "output_type": "execute_result"
    },
    {
     "data": {
      "image/png": "[encoded data removed]",
      "text/plain": [
       "<Figure size 1512x648 with 1 Axes>"
      ]
     },
     "metadata": {
      "needs_background": "light"
     },
     "output_type": "display_data"
    }
   ],
   "source": [
    "relative_errors = np.abs(tour_lengthts_reference - tour_lengthts_approxiamtion)/tour_lengthts_reference\n",
    "weights = np.ones_like(relative_errors)/len(relative_errors)\n",
    "\n",
    "plt.figure(figsize=(21,9))\n",
    "plt.hist(relative_errors, bins=np.arange(0,1,0.02), weights=weights, edgecolor='black', color='skyblue')\n",
    "plt.ylim((0, 1))\n",
    "plt.title(\"Error distribution of test samples\")\n",
    "plt.xlabel(\"Relative error\")\n",
    "plt.ylabel(\"Relative frequency\")\n",
    "plt.plot()"
   ]
  },
  {
   "cell_type": "code",
   "execution_count": 19,
   "id": "67a42e0b",
   "metadata": {},
   "outputs": [
    {
     "data": {
      "text/plain": [
       "0.446"
      ]
     },
     "execution_count": 19,
     "metadata": {},
     "output_type": "execute_result"
    }
   ],
   "source": [
    "# Fraction of non-optimal QAOA solutions\n",
    "len(relative_errors[relative_errors>0])/number_of_samples"
   ]
  },
  {
   "cell_type": "code",
   "execution_count": 20,
   "id": "b4311d8f",
   "metadata": {},
   "outputs": [
    {
     "data": {
      "text/plain": [
       "0.727492335131072"
      ]
     },
     "execution_count": 20,
     "metadata": {},
     "output_type": "execute_result"
    }
   ],
   "source": [
    "# Average relative error of all non-optimal QAOA solutions\n",
    "np.mean(relative_errors[relative_errors>0])"
   ]
  }
 ],
 "metadata": {
  "kernelspec": {
   "display_name": "Python 3 (ipykernel)",
   "language": "python",
   "name": "python3"
  },
  "language_info": {
   "codemirror_mode": {
    "name": "ipython",
    "version": 3
   },
   "file_extension": ".py",
   "mimetype": "text/x-python",
   "name": "python",
   "nbconvert_exporter": "python",
   "pygments_lexer": "ipython3",
   "version": "3.10.7"
  }
 },
 "nbformat": 4,
 "nbformat_minor": 5
}
